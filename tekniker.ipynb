{
 "cells": [
  {
   "cell_type": "markdown",
   "metadata": {},
   "source": [
    "# Tekniker: Lördagsknåp"
   ]
  },
  {
   "cell_type": "markdown",
   "metadata": {},
   "source": [
    "## Skapa .txt-fil ur .htm-fil "
   ]
  },
  {
   "cell_type": "code",
   "execution_count": 103,
   "metadata": {},
   "outputs": [
    {
     "name": "stdout",
     "output_type": "stream",
     "text": [
      "Skrev /Users/kaj/Documents/tekniker/Fisv_tekn_2.txt\n"
     ]
    }
   ],
   "source": [
    "import tekniker\n",
    "import importlib\n",
    "importlib.reload(tekniker)\n",
    "import csv\n",
    "import os.path\n",
    "bok = \"Fisv_tekn_2\"\n",
    "katalog = \"/Users/kaj/Documents/tekniker\"\n",
    "html_filnamn = os.path.join(katalog, bok+\".htm\")\n",
    "csv_filnamn = html_filnamn.replace(\".htm\", \".csv\")\n",
    "txt_filnamn = html_filnamn.replace(\".htm\", \".txt\")\n",
    "parsat = tekniker.parse_html(html_filnamn)\n",
    "with open(txt_filnamn, 'w') as fp:\n",
    "    fp.write(parsat)\n",
    "print(f\"Skrev {txt_filnamn}\")\n"
   ]
  },
  {
   "cell_type": "markdown",
   "metadata": {},
   "source": [
    "## Testa textindexering"
   ]
  },
  {
   "cell_type": "code",
   "execution_count": 6,
   "metadata": {},
   "outputs": [
    {
     "name": "stdout",
     "output_type": "stream",
     "text": [
      "y<Kaj Arnö>x 1 10\n",
      "yx 2\n"
     ]
    }
   ],
   "source": [
    "s = \"y<Kaj Arnö>x\"\n",
    "p1 = s.find(\"<\")\n",
    "p2 = s.find(\">\")\n",
    "n = s[0:p1]+s[p2+1:]\n",
    "print(s,p1,p2)\n",
    "print(n, len(n))"
   ]
  },
  {
   "cell_type": "markdown",
   "metadata": {},
   "source": [
    "## Splitta .txt-filen per fabo"
   ]
  },
  {
   "cell_type": "code",
   "execution_count": 47,
   "metadata": {},
   "outputs": [
    {
     "data": {
      "text/plain": [
       "243922"
      ]
     },
     "execution_count": 47,
     "metadata": {},
     "output_type": "execute_result"
    }
   ],
   "source": [
    "len(parsat.split(\"<!-- page 7 -->\")[1])"
   ]
  },
  {
   "cell_type": "code",
   "execution_count": 104,
   "metadata": {},
   "outputs": [
    {
     "name": "stdout",
     "output_type": "stream",
     "text": [
      "Skrev /Users/kaj/Documents/tekniker/Karl_Joel_Appelberg.html\n",
      "Skrev /Users/kaj/Documents/tekniker/Adolf_Ossian_Aschan.html\n",
      "Skrev /Users/kaj/Documents/tekniker/Julius_Donatus_Forsman.html\n",
      "Skrev /Users/kaj/Documents/tekniker/Fredrik_Werner_Lindberg.html\n",
      "Skrev /Users/kaj/Documents/tekniker/Gustaf_Robert_Lindberg.html\n",
      "Skrev /Users/kaj/Documents/tekniker/Karl_Hugo_Lindfors.html\n",
      "Skrev /Users/kaj/Documents/tekniker/Klas_Mathias_Moring.html\n",
      "Skrev /Users/kaj/Documents/tekniker/Karl_Gustaf_Nystrom.html\n",
      "Skrev /Users/kaj/Documents/tekniker/Ernst_Edvard_Qvist.html\n",
      "Skrev /Users/kaj/Documents/tekniker/Knut_Adolf_Ludvig_Stjernvall.html\n",
      "Skrev /Users/kaj/Documents/tekniker/Axel_Wilhelm_Wahren.html\n",
      "Skrev /Users/kaj/Documents/tekniker/Evert_Albert_Vilen.html\n"
     ]
    }
   ],
   "source": [
    "importlib.reload(tekniker)\n",
    "fabor = tekniker.create_fabo_dict(csv_filnamn)\n",
    "tekniker.create_fabo_files(fabor, parsat, katalog, bok)\n"
   ]
  },
  {
   "cell_type": "markdown",
   "metadata": {},
   "source": [
    "## Ordstatistik"
   ]
  },
  {
   "cell_type": "code",
   "execution_count": 97,
   "metadata": {},
   "outputs": [
    {
     "name": "stdout",
     "output_type": "stream",
     "text": [
      "Skrev /Users/kaj/Documents/tekniker/ordfrekvens.csv totalt 112868 tecken\n"
     ]
    }
   ],
   "source": [
    "importlib.reload(tekniker)\n",
    "eliminate_file = 'tekn_eliminera_tecken.csv' \n",
    "eliminate_file = os.path.join(katalog, eliminate_file)\n",
    "frekvname = \"ordfrekvens.csv\"\n",
    "frekvname = os.path.join(katalog, frekvname)\n",
    "with open(eliminate_file, \"r\") as f:\n",
    "    skiplist = f.read().splitlines()\n",
    "ordfrekvens = tekniker.word_stat(parsat, skiplist)\n",
    "print(tekniker.save_list_of_lists(ordfrekvens, frekvname))\n"
   ]
  }
 ],
 "metadata": {
  "interpreter": {
   "hash": "96ccfe6deb4723305745eb6cc5fa6c7d75281764d6edbf22af5c1c35cbc2d753"
  },
  "kernelspec": {
   "display_name": "Python 3.8.3 64-bit ('base': conda)",
   "language": "python",
   "name": "python3"
  },
  "language_info": {
   "codemirror_mode": {
    "name": "ipython",
    "version": 3
   },
   "file_extension": ".py",
   "mimetype": "text/x-python",
   "name": "python",
   "nbconvert_exporter": "python",
   "pygments_lexer": "ipython3",
   "version": "3.8.3"
  },
  "orig_nbformat": 4
 },
 "nbformat": 4,
 "nbformat_minor": 2
}
